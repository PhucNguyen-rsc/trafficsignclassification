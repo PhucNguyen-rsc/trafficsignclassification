{
 "cells": [
  {
   "cell_type": "code",
   "execution_count": null,
   "source": [
    "import numpy as np\r\n",
    "import pandas as pd\r\n",
    "import tensorflow as tf\r\n",
    "from tensorflow.keras.preprocessing import image\r\n",
    "\r\n",
    "import numpy as np\r\n",
    "import tensorflow as tf\r\n",
    "from tensorflow import keras\r\n",
    "\r\n",
    "import warnings;\r\n",
    "warnings.filterwarnings('ignore')"
   ],
   "outputs": [],
   "metadata": {}
  },
  {
   "cell_type": "markdown",
   "source": [
    "# Predict batches of images"
   ],
   "metadata": {}
  },
  {
   "cell_type": "code",
   "execution_count": null,
   "source": [
    "tf.compat.v1.enable_v2_behavior()"
   ],
   "outputs": [],
   "metadata": {}
  },
  {
   "cell_type": "code",
   "execution_count": null,
   "source": [
    "label = ['3_24+10', '3_24+30', '3_24+5', '3_24+60', '3_24+70', '3_24+90', '3_24+110', '3_24+20', '3_24+40', '3_24+50', '3_24+80', '1_12_1', '1_12_2', '1_13', '1_14', '1_19', '1_24', '1_26', '1_27', '3_21', '3_31', '3_33', '4_4_1', '4_4_2', '4_5_2', '4_5_4', '4_5_5', '4_8_5', '4_8_6', '5_17', '6_2+50', '6_2+70', '6_2+30', '6_2+40', '6_2+60', '6_2+80', '6_7', '7_1', '7_11', '7_13', '7_14', '7_2', '7_4', '7_7', '7_9', 'smoke', 'unknown', '1_11_1', '1_11_2', '1_15', '1_16', '1_18', '1_20_1', '1_22', '1_25', '1_28', '1_29', '1_30', '1_8', '2_3_1', '2_3_L', '2_3_R', '2_6', '2_7', '3_15', '3_17', '3_20', '3_25+70', '3_25+20', '3_25+30', '3_25+40', '3_25+50', '3_25+5', '3_25+60', '3_6', '4_1_6', '4_2_1', '4_2_2', '5_15_5', '6_3_1', '7_3', '7_6', '1_17', '3_16', '5_15_3', '5_20', '7_12', '1_31', '3_10', '3_19', '3_2', '3_5', '3_7', '3_9', '4_1_2_1', '4_1_3_1', '4_5_1', '4_5_6', '4_8_1', '4_8_2', '4_8_3', '5_1', '5_11_1', '5_12_1', '5_13_1', '5_13_2', '5_14_1', '5_14_2', '5_14_3', '5_2', '5_23_2', '5_24_2', '5_3', '5_4', '5_8', '7_5', '3_32', '7_18', '1_2', '1_33', '1_7', '2_4', '3_18_1', '3_18_2', '3_8', '4_1_2', '4_1_3', '5_14', '6_15_2', '6_15_3', '6_6', '6_8_1', '1_1', '1_20_2', '1_20_3', '1_21', '1_23', '1_5', '2_1', '2_2', '2_5', '3_1', '3_26', '3_27', '3_28', '3_29', '3_30', '4_1_1', '4_1_4', '4_1_5', '4_2_3', '4_3', '4_8_4', '5_16', '5_18', '5_19', '5_21', '5_22', '5_5', '5_6', '5_7_1', '5_7_2', '5_9', '6_15_1', '6_16', '6_4', '6_8_2', '6_8_3', '5_29', '5_31+10', '5_31+20', '5_31+30', '5_31+40', '5_31+5', '5_31+50', '5_32', '5_33', '1_6', '5_15_2+2', '5_15_2+1', '5_15_2+3', '5_15_2+5']"
   ],
   "outputs": [],
   "metadata": {}
  },
  {
   "cell_type": "code",
   "execution_count": null,
   "source": [
    "autoencoder = keras.models.load_model(\"../input/aaaaaaaaaa/autoencoder.h5\") # load pre_trained auto encoder model"
   ],
   "outputs": [],
   "metadata": {}
  },
  {
   "cell_type": "code",
   "execution_count": null,
   "source": [
    "model_1= keras.models.load_model(\"../input/aaaaaaaaaa/VGG19_2.h5\")\r\n",
    "model_2= keras.models.load_model(\"../input/aaaaaaaaaa/InceptionResNetV2_2.h5\")\r\n",
    "model_3 = keras.models.load_model('../input/aaaaaaaaaa/denset201_2.h5')"
   ],
   "outputs": [],
   "metadata": {}
  },
  {
   "cell_type": "code",
   "execution_count": null,
   "source": [
    "root_dir = '../input/aiijc-final-dcm/AIJ_2gis_data/'\r\n",
    "def load_and_change_img(img):\r\n",
    "    img = image.img_to_array(img)\r\n",
    "    img = img/255.\r\n",
    "    result= autoencoder.predict(img[None])\r\n",
    "    new_arr = ((result - result.min()) * (1/(result.max() - result.min()) * 255)).astype('uint8')\r\n",
    "    img_new = np.zeros(shape=(80,80,3), dtype= np.int16)\r\n",
    "    img_new[..., 0] = new_arr[...,2]\r\n",
    "    img_new[...,1]=new_arr[...,1]\r\n",
    "    img_new[..., 2] = new_arr[...,0]\r\n",
    "    return img_new/255."
   ],
   "outputs": [],
   "metadata": {}
  },
  {
   "cell_type": "code",
   "execution_count": null,
   "source": [
    "df = pd.read_csv(\"../input/aiijc-final-dcm/AIJ_2gis_data/sample_submission.csv\")"
   ],
   "outputs": [],
   "metadata": {}
  },
  {
   "cell_type": "code",
   "execution_count": null,
   "source": [
    "df_a=df[0:100000]"
   ],
   "outputs": [],
   "metadata": {}
  },
  {
   "cell_type": "code",
   "execution_count": null,
   "source": [
    "train_datagen = tf.keras.preprocessing.image.ImageDataGenerator(preprocessing_function=load_and_change_img)\r\n",
    "test_set =train_datagen.flow_from_dataframe(directory = root_dir,\r\n",
    "                                            dataframe=df_a,\r\n",
    "                                            x_col = 'filename',\r\n",
    "                                            y_col='label',\r\n",
    "                                            classes=None,\r\n",
    "                                            class_model=None,\r\n",
    "                                            shuffle=False,\r\n",
    "                                            batch_size=256,\r\n",
    "                                            target_size=(80,80))"
   ],
   "outputs": [],
   "metadata": {}
  },
  {
   "cell_type": "code",
   "execution_count": null,
   "source": [
    "outputs=[]\r\n",
    "y_pred_1=model_1.predict(test_set, batch_size=256,verbose=1)\r\n",
    "y_pred_2=model_2.predict(test_set, batch_size=256,verbose=1)\r\n",
    "y_pred_3=model_3.predict(test_set, batch_size=256, verbose=1)\r\n",
    "y_pred=y_pred_1*0.2 + y_pred_2*0.4 + y_pred_3*0.4\r\n",
    "del y_pred_1\r\n",
    "del y_pred_2\r\n",
    "del y_pred_3\r\n",
    "for i in range(len(np.argmax(y_pred, axis=1))):\r\n",
    "    outputs.append(label[np.argmax(y_pred[i], axis=0)])"
   ],
   "outputs": [],
   "metadata": {}
  },
  {
   "cell_type": "code",
   "execution_count": null,
   "source": [
    "df_new=pd.DataFrame({'filename': df_a['filename'], 'label': outputs})\r\n",
    "df_new.to_csv('predict.csv')"
   ],
   "outputs": [],
   "metadata": {}
  },
  {
   "cell_type": "markdown",
   "source": [
    "# Predict single image"
   ],
   "metadata": {}
  },
  {
   "cell_type": "code",
   "execution_count": null,
   "source": [
    "model1= keras.models.load_model(\"../input/aaaaaaaaaa/VGG19_2.h5\")\r\n",
    "model2= keras.models.load_model(\"../input/aaaaaaaaaa/InceptionResNetV2_2.h5\")\r\n",
    "model3 = keras.models.load_model('../input/aaaaaaaaaa/denset201_2.h5')"
   ],
   "outputs": [],
   "metadata": {}
  },
  {
   "cell_type": "code",
   "execution_count": null,
   "source": [
    "def auto_encoder(img_path):\r\n",
    "  img = image.load_img(img_path, target_size=(80,80,3))\r\n",
    "  img = image.img_to_array(img)\r\n",
    "  img = img/255.\r\n",
    "  result= autoencoder.predict(img[None])\r\n",
    "  new_arr = ((result - result.min()) * (1/(result.max() - result.min()) * 255)).astype('uint8')\r\n",
    "  img_new = np.zeros(shape=(80,80,3), dtype=np.int16)\r\n",
    "  img_new[..., 0] = new_arr[...,2]\r\n",
    "  img_new[...,1]=new_arr[...,1]\r\n",
    "  img_new[..., 2] = new_arr[...,0]\r\n",
    "  return img_new/255."
   ],
   "outputs": [],
   "metadata": {}
  },
  {
   "cell_type": "code",
   "execution_count": null,
   "source": [
    "labels=[]\r\n",
    "img_path=\"\"\r\n",
    "def predict(img_path):\r\n",
    "  img = auto_encoder(img_path)\r\n",
    "  y_pred1=model1.predict(np.expand_dims(img, axis=0)*1/255.0)\r\n",
    "  y_pred2=model2.predict(np.expand_dims(img, axis=0)*1/255.0)\r\n",
    "  y_pred3=model3.predict(np.expand_dims(img, axis=0)*1/255.0)\r\n",
    "  y_pred=y_pred1*0.2 + y_pred2*0.4 + y_pred3*0.4\r\n",
    "  print(label[np.argmax(y_pred)])"
   ],
   "outputs": [],
   "metadata": {}
  }
 ],
 "metadata": {
  "orig_nbformat": 4,
  "language_info": {
   "name": "python"
  }
 },
 "nbformat": 4,
 "nbformat_minor": 2
}