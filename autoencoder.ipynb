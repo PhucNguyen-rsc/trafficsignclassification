{
 "cells": [
  {
   "cell_type": "code",
   "execution_count": null,
   "source": [
    "import pandas as pd\r\n",
    "import math\r\n",
    "import tensorflow as tf\r\n",
    "import numpy as np\r\n",
    "import tensorflow as tf\r\n",
    "from tensorflow import keras\r\n",
    "\r\n",
    "from keras.preprocessing import image\r\n",
    "from tensorflow.keras.preprocessing.image import save_img\r\n",
    "\r\n",
    "import glob\r\n",
    "from tqdm import tqdm\r\n",
    "import warnings;\r\n",
    "warnings.filterwarnings('ignore')"
   ],
   "outputs": [],
   "metadata": {}
  },
  {
   "cell_type": "code",
   "execution_count": null,
   "source": [
    "df = pd.read_csv(\"/content/AIJ_2gis_data/sample_submission.csv\")\r\n",
    "print(len(df.filename))\r\n",
    "li=list(df.filename)"
   ],
   "outputs": [],
   "metadata": {}
  },
  {
   "cell_type": "code",
   "execution_count": null,
   "source": [
    "train_datagen = tf.keras.preprocessing.image.ImageDataGenerator()"
   ],
   "outputs": [],
   "metadata": {}
  },
  {
   "cell_type": "code",
   "execution_count": null,
   "source": [
    "autoencoder = keras.models.load_model(\"/content/drive/MyDrive/autoencoder.h5\") # load pre_trained auto encoder model"
   ],
   "outputs": [],
   "metadata": {}
  },
  {
   "cell_type": "code",
   "execution_count": null,
   "source": [
    "root_dir = '/content/AIJ_2gis_data/'\r\n",
    "save_dir = r'/content/drive/MyDrive/anotherone/'\r\n",
    "start_index=0\r\n",
    "end_index=100000\r\n",
    "\r\n",
    "def auto_encoder(url):\r\n",
    "  img = image.load_img(url, target_size=(80,80,3))\r\n",
    "  img = image.img_to_array(img)\r\n",
    "  img = img/255.\r\n",
    "  return autoencoder.predict(img[None])\r\n",
    "\r\n",
    "image_name = list(df.filename)\r\n",
    "for x in tqdm(image_name[start_index:end_index]):\r\n",
    "  result = auto_encoder(root_dir+x)\r\n",
    "  save_at = save_dir+x[12:]\r\n",
    "  print(save_at)\r\n",
    "  save_img(save_at,result[0])"
   ],
   "outputs": [],
   "metadata": {}
  }
 ],
 "metadata": {
  "orig_nbformat": 4,
  "language_info": {
   "name": "python"
  }
 },
 "nbformat": 4,
 "nbformat_minor": 2
}